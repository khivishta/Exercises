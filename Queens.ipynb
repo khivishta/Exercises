{
 "cells": [
  {
   "cell_type": "code",
   "execution_count": 49,
   "metadata": {},
   "outputs": [],
   "source": [
    "Nqueens = 5\n",
    "queens = [-1]*Nqueens"
   ]
  },
  {
   "cell_type": "code",
   "execution_count": 42,
   "metadata": {},
   "outputs": [],
   "source": [
    "def printBoard() :\n",
    "    for y in range(Nqueens) :\n",
    "        for x in range(Nqueens) :\n",
    "            if queens[y]==x :\n",
    "                print(\"Q\",end=\" \")\n",
    "            else :\n",
    "                print(\".\",end=\" \")\n",
    "        print()"
   ]
  },
  {
   "cell_type": "code",
   "execution_count": 43,
   "metadata": {},
   "outputs": [
    {
     "name": "stdout",
     "output_type": "stream",
     "text": [
      ". . . . . . . . \n",
      ". . . . . . . . \n",
      ". . . . . . . . \n",
      ". . . . . . . . \n",
      ". . . . . . . . \n",
      ". . . . . . . . \n",
      ". . . . . . . . \n",
      ". . . . . . . . \n"
     ]
    }
   ],
   "source": [
    "printBoard()"
   ]
  },
  {
   "cell_type": "code",
   "execution_count": 5,
   "metadata": {},
   "outputs": [
    {
     "data": {
      "text/plain": [
       "3"
      ]
     },
     "execution_count": 5,
     "metadata": {},
     "output_type": "execute_result"
    }
   ],
   "source": [
    "abs(-3)"
   ]
  },
  {
   "cell_type": "code",
   "execution_count": 6,
   "metadata": {},
   "outputs": [],
   "source": [
    "def possible(y,x) :\n",
    "    for i in range(y) :\n",
    "        if queens[i]==x or y-i==abs(queens[i]-x) :\n",
    "            return False\n",
    "    return True"
   ]
  },
  {
   "cell_type": "code",
   "execution_count": 11,
   "metadata": {},
   "outputs": [
    {
     "data": {
      "text/plain": [
       "True"
      ]
     },
     "execution_count": 11,
     "metadata": {},
     "output_type": "execute_result"
    }
   ],
   "source": [
    "possible(3,6)"
   ]
  },
  {
   "cell_type": "code",
   "execution_count": 32,
   "metadata": {},
   "outputs": [],
   "source": [
    "def solve(y) :\n",
    "    if y==Nqueens :\n",
    "        printBoard()\n",
    "        input(\"More?\")\n",
    "    else :\n",
    "        for x in range(Nqueens) :\n",
    "            if possible(y,x) :\n",
    "                queens[y]=x\n",
    "                solve(y+1)            "
   ]
  },
  {
   "cell_type": "code",
   "execution_count": 33,
   "metadata": {},
   "outputs": [
    {
     "name": "stdout",
     "output_type": "stream",
     "text": [
      ". Q . . \n",
      ". . . Q \n",
      "Q . . . \n",
      ". . Q . \n",
      "More?\n",
      ". . Q . \n",
      "Q . . . \n",
      ". . . Q \n",
      ". Q . . \n",
      "More?\n"
     ]
    }
   ],
   "source": [
    "solve(0)"
   ]
  },
  {
   "cell_type": "code",
   "execution_count": 45,
   "metadata": {},
   "outputs": [],
   "source": [
    "def count(y) :\n",
    "    if y==Nqueens :\n",
    "        return 1\n",
    "    else :\n",
    "        sum = 0\n",
    "        for x in range(Nqueens) :\n",
    "            if possible(y,x) :\n",
    "                queens[y]=x\n",
    "                sum = sum + count(y+1)\n",
    "        return sum"
   ]
  },
  {
   "cell_type": "code",
   "execution_count": 40,
   "metadata": {},
   "outputs": [],
   "source": [
    "Nqueens=8"
   ]
  },
  {
   "cell_type": "code",
   "execution_count": 50,
   "metadata": {},
   "outputs": [
    {
     "data": {
      "text/plain": [
       "10"
      ]
     },
     "execution_count": 50,
     "metadata": {},
     "output_type": "execute_result"
    }
   ],
   "source": [
    "count(0)"
   ]
  },
  {
   "cell_type": "code",
   "execution_count": 59,
   "metadata": {},
   "outputs": [],
   "source": [
    "def countN(Nqueens) :\n",
    "    queens = [-1]*Nqueens\n",
    "    def possible(y,x) :\n",
    "        for i in range(y) :\n",
    "            if queens[i]==x or y-i==abs(queens[i]-x) :\n",
    "                return False\n",
    "        return True\n",
    "    def count(y) :\n",
    "        if y==Nqueens :\n",
    "            return 1\n",
    "        else :\n",
    "            sum = 0\n",
    "            for x in range(Nqueens) :\n",
    "                if possible(y,x) :\n",
    "                    queens[y]=x\n",
    "                    sum = sum + count(y+1)\n",
    "            return sum\n",
    "    return count(0)"
   ]
  },
  {
   "cell_type": "code",
   "execution_count": 70,
   "metadata": {},
   "outputs": [
    {
     "data": {
      "text/plain": [
       "2680"
      ]
     },
     "execution_count": 70,
     "metadata": {},
     "output_type": "execute_result"
    }
   ],
   "source": [
    "countN(11)"
   ]
  },
  {
   "cell_type": "code",
   "execution_count": null,
   "metadata": {},
   "outputs": [],
   "source": []
  }
 ],
 "metadata": {
  "kernelspec": {
   "display_name": "Python 3",
   "language": "python",
   "name": "python3"
  },
  "language_info": {
   "codemirror_mode": {
    "name": "ipython",
    "version": 3
   },
   "file_extension": ".py",
   "mimetype": "text/x-python",
   "name": "python",
   "nbconvert_exporter": "python",
   "pygments_lexer": "ipython3",
   "version": "3.8.3"
  }
 },
 "nbformat": 4,
 "nbformat_minor": 2
}
